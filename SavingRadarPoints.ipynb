{
 "cells": [
  {
   "cell_type": "code",
   "execution_count": 1,
   "metadata": {},
   "outputs": [],
   "source": [
    "%matplotlib inline\n",
    "from nuscenes.nuscenes import NuScenes\n",
    "from nuscenes.utils.data_classes import LidarPointCloud, RadarPointCloud, Box\n",
    "from nuscenes.utils.geometry_utils import points_in_box\n",
    "from enum import IntEnum\n",
    "from typing import Tuple\n",
    "from pyquaternion import Quaternion\n",
    "import numpy as np"
   ]
  },
  {
   "cell_type": "code",
   "execution_count": null,
   "metadata": {},
   "outputs": [],
   "source": [
    "nusc = NuScenes(version='v1.0-trainval', dataroot='/home/mike/workspaces/ECE579/data', verbose=True)"
   ]
  },
  {
   "cell_type": "code",
   "execution_count": null,
   "metadata": {},
   "outputs": [],
   "source": [
    "#Grab All Samples available\n",
    "samples = nusc.sample[:]\n",
    "\n",
    "#Radar point extraction parameters\n",
    "keepValidities=[0x00,0x01,0x02,0x03,0x05,0x06,0x07,0x0d,0x0e,0x04,0x08,0x09,0x0a,0x0b,0x0c,0x0f,0x10,0x11]\n",
    "keepAmbigStates=range(4)"
   ]
  },
  {
   "cell_type": "code",
   "execution_count": null,
   "metadata": {},
   "outputs": [],
   "source": [
    "#Loop over all samples avialable\n",
    "for sample in samples:\n",
    "    \n",
    "    #Obtain all radar sample_data(SD) tokens for this sample\n",
    "    FC_RadarSD = nusc.get('sample_data', my_sample['data']['RADAR_FRONT'])\n",
    "    FL_RadarSD = nusc.get('sample_data', my_sample['data']['RADAR_FRONT_LEFT'])\n",
    "    FR_RadarSD = nusc.get('sample_data', my_sample['data']['RADAR_FRONT_RIGHT'])\n",
    "    RL_RadarSD = nusc.get('sample_data', my_sample['data']['RADAR_BACK_LEFT'])\n",
    "    RR_RadarSD = nusc.get('sample_data', my_sample['data']['RADAR_BACK_RIGHT'])\n",
    "\n",
    "    #GRAB Path to point clouds (pc_path), and all annotation (boxes) with this sensor data associated with them.\n",
    "    #Note that boxes are transformed into sensor frame, so we need a new list of boxes for each sensor. array is only used for cameras\n",
    "    FC_pc_path, boxesFC, array = nusc.get_sample_data(FCRadarData['token'])\n",
    "    FL_pc_path, boxesFL, array = nusc.get_sample_data(FLRadarData['token'])\n",
    "    FR_pc_path, boxesFR, array = nusc.get_sample_data(FRRadarData['token'])\n",
    "    RL_pc_path, boxesRL, array = nusc.get_sample_data(RLRadarData['token'])\n",
    "    RR_pc_path, boxesRR, array = nusc.get_sample_data(RRRadarData['token'])\n",
    "    \n",
    "    #Obtain each radar point cloud for this sample\n",
    "    FC_pc = RadarPointCloud.from_file(FC_pc_path,invalid_states=keepValidities,ambig_states=keepAmbigStates)\n",
    "    FC_points = np.array(FC_pc.points[:3, :])\n",
    "    FL_pc = RadarPointCloud.from_file(FL_pc_path,invalid_states=keepValidities,ambig_states=keepAmbigStates)\n",
    "    FL_points = np.array(FL_pc.points[:3, :])\n",
    "    FR_pc = RadarPointCloud.from_file(FR_pc_path,invalid_states=keepValidities,ambig_states=keepAmbigStates)\n",
    "    FR_points = np.array(FR_pc.points[:3, :])\n",
    "    RL_pc = RadarPointCloud.from_file(RL_pc_path,invalid_states=keepValidities,ambig_states=keepAmbigStates)\n",
    "    RL_points = np.array(RL_pc.points[:3, :])\n",
    "    RR_pc = RadarPointCloud.from_file(RR_pc_path,invalid_states=keepValidities,ambig_states=keepAmbigStates)\n",
    "    RR_points = np.array(RR_pc.points[:3, :])\n",
    "    \n",
    "    #For each sample, loop over each sample_annotation\n",
    "    for annotationToken in sample['anns']\n",
    "        annotation = nusc.get('sample_annotation',annotationToken)\n",
    "        num_radar_points=annotation['num_radar_pts']\n",
    "        \n",
    "        #Make sure the annotation includes radar points, otherwise skip it\n",
    "        if num_radar_points == 0:\n",
    "            continue\n",
    "            \n",
    "        while num_radar_points != 0:\n",
    "            FC_points = np.array(FC_pc.points[:3, :])\n",
    "        \n",
    "        \n",
    "        \n",
    "        \n",
    "        \n",
    "            \n",
    "        \n",
    "    "
   ]
  }
 ],
 "metadata": {
  "kernelspec": {
   "display_name": "Python 3",
   "language": "python",
   "name": "python3"
  },
  "language_info": {
   "codemirror_mode": {
    "name": "ipython",
    "version": 3
   },
   "file_extension": ".py",
   "mimetype": "text/x-python",
   "name": "python",
   "nbconvert_exporter": "python",
   "pygments_lexer": "ipython3",
   "version": "3.7.3"
  },
  "varInspector": {
   "cols": {
    "lenName": 16,
    "lenType": 16,
    "lenVar": 40
   },
   "kernels_config": {
    "python": {
     "delete_cmd_postfix": "",
     "delete_cmd_prefix": "del ",
     "library": "var_list.py",
     "varRefreshCmd": "print(var_dic_list())"
    },
    "r": {
     "delete_cmd_postfix": ") ",
     "delete_cmd_prefix": "rm(",
     "library": "var_list.r",
     "varRefreshCmd": "cat(var_dic_list()) "
    }
   },
   "types_to_exclude": [
    "module",
    "function",
    "builtin_function_or_method",
    "instance",
    "_Feature"
   ],
   "window_display": false
  }
 },
 "nbformat": 4,
 "nbformat_minor": 2
}
