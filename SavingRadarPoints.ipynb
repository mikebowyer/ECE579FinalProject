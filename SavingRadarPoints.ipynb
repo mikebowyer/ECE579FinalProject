{
 "cells": [
  {
   "cell_type": "code",
   "execution_count": 4,
   "metadata": {},
   "outputs": [],
   "source": [
    "%matplotlib inline\n",
    "from nuscenes.nuscenes import NuScenes\n",
    "from nuscenes.utils.data_classes import LidarPointCloud, RadarPointCloud, Box\n",
    "from nuscenes.utils.geometry_utils import points_in_box\n",
    "from enum import IntEnum\n",
    "from typing import Tuple\n",
    "from pyquaternion import Quaternion\n",
    "import numpy as np\n",
    "import csv"
   ]
  },
  {
   "cell_type": "code",
   "execution_count": 5,
   "metadata": {},
   "outputs": [
    {
     "name": "stdout",
     "output_type": "stream",
     "text": [
      "======\n",
      "Loading NuScenes tables for version v1.0-trainval ...\n",
      "23 category,\n",
      "8 attribute,\n",
      "4 visibility,\n",
      "64386 instance,\n",
      "12 sensor,\n",
      "10200 calibrated_sensor,\n",
      "2631083 ego_pose,\n",
      "68 log,\n",
      "850 scene,\n",
      "34149 sample,\n",
      "2631083 sample_data,\n",
      "1166187 sample_annotation,\n",
      "4 map,\n",
      "Done loading in 28.3 seconds.\n",
      "======\n",
      "Reverse indexing ...\n",
      "Done reverse indexing in 6.5 seconds.\n",
      "======\n"
     ]
    }
   ],
   "source": [
    "nusc = NuScenes(version='v1.0-trainval', dataroot='/home/mike/workspaces/ECE579/data', verbose=True)"
   ]
  },
  {
   "cell_type": "code",
   "execution_count": 6,
   "metadata": {},
   "outputs": [],
   "source": [
    "#Grab All Samples available\n",
    "samples = nusc.sample[:10]\n",
    "\n",
    "#Radar point extraction parameters\n",
    "keepValidities=[0x00,0x01,0x02,0x03,0x05,0x06,0x07,0x0d,0x0e,0x04,0x08,0x09,0x0a,0x0b,0x0c,0x0f,0x10,0x11]\n",
    "keepAmbigStates=range(4)"
   ]
  },
  {
   "cell_type": "code",
   "execution_count": 29,
   "metadata": {
    "scrolled": false
   },
   "outputs": [
    {
     "name": "stdout",
     "output_type": "stream",
     "text": [
      "New Sample\n",
      "New Sensor\n",
      "Num Radar Points:0\n",
      "Num Radar Points:0\n",
      "Num Radar Points:7\n",
      "label: nan, score: nan, xyz: [17.01, 10.26, 0.97], wlh: [2.31, 7.52, 3.09], rot axis: [0.01, -0.01, 1.00], ang(degrees): -124.69, ang(rad): -2.18, vel: nan, nan, nan, name: vehicle.truck, token: acce0b7220754600b700257a1de1573d\n",
      "[15.   7.5  0. ]\n",
      "[16.39999962  7.5         0.        ]\n",
      "[16.39999962  8.89999962  0.        ]\n",
      "[16.20000076 10.69999981  0.        ]\n",
      "[17.39999962 11.5         0.        ]\n",
      "[17.79999924 13.10000038  0.        ]\n",
      "Num Radar Points:2\n",
      "label: nan, score: nan, xyz: [-8.02, -9.21, 0.34], wlh: [1.64, 4.25, 1.44], rot axis: [0.01, -0.02, 1.00], ang(degrees): -69.40, ang(rad): -1.21, vel: nan, nan, nan, name: vehicle.car, token: 8d7cb5e96cae48c39ef4f9f75182013a\n",
      "Num Radar Points:0\n",
      "Num Radar Points:3\n",
      "label: nan, score: nan, xyz: [-15.68, -0.38, 0.44], wlh: [1.87, 4.48, 1.46], rot axis: [0.01, -0.05, 1.00], ang(degrees): -27.32, ang(rad): -0.48, vel: nan, nan, nan, name: vehicle.car, token: f9dba7f32ed34ee8adc92096af767868\n",
      "Num Radar Points:3\n",
      "label: nan, score: nan, xyz: [32.66, 47.58, 1.48], wlh: [2.88, 6.37, 2.98], rot axis: [-0.01, -0.02, -1.00], ang(degrees): -58.43, ang(rad): -1.02, vel: nan, nan, nan, name: vehicle.truck, token: 086e3f37a44e459987cde7a3ca273b5b\n",
      "[33.         46.90000153  0.        ]\n",
      "Num Radar Points:0\n",
      "Num Radar Points:0\n",
      "Num Radar Points:6\n",
      "label: nan, score: nan, xyz: [23.08, 19.42, 0.87], wlh: [2.16, 6.23, 2.60], rot axis: [0.01, -0.01, 1.00], ang(degrees): -119.20, ang(rad): -2.08, vel: nan, nan, nan, name: vehicle.truck, token: b0284e14d17a444a8d0071bd1f03a0a2\n",
      "[21.20000076 17.10000038  0.        ]\n",
      "[22.20000076 17.89999962  0.        ]\n",
      "[22.79999924 20.89999962  0.        ]\n",
      "[23.79999924 21.29999924  0.        ]\n",
      "[24.         22.29999924  0.        ]\n",
      "New Sensor\n",
      "Num Radar Points:0\n",
      "Num Radar Points:0\n",
      "Num Radar Points:7\n",
      "label: nan, score: nan, xyz: [17.01, 10.26, 0.97], wlh: [2.31, 7.52, 3.09], rot axis: [0.01, -0.01, 1.00], ang(degrees): -124.69, ang(rad): -2.18, vel: nan, nan, nan, name: vehicle.truck, token: acce0b7220754600b700257a1de1573d\n",
      "[16.39999962 11.30000019  0.        ]\n",
      "Num Radar Points:2\n",
      "label: nan, score: nan, xyz: [-8.02, -9.21, 0.34], wlh: [1.64, 4.25, 1.44], rot axis: [0.01, -0.02, 1.00], ang(degrees): -69.40, ang(rad): -1.21, vel: nan, nan, nan, name: vehicle.car, token: 8d7cb5e96cae48c39ef4f9f75182013a\n",
      "Num Radar Points:0\n",
      "Num Radar Points:3\n",
      "label: nan, score: nan, xyz: [-15.68, -0.38, 0.44], wlh: [1.87, 4.48, 1.46], rot axis: [0.01, -0.05, 1.00], ang(degrees): -27.32, ang(rad): -0.48, vel: nan, nan, nan, name: vehicle.car, token: f9dba7f32ed34ee8adc92096af767868\n",
      "Num Radar Points:3\n",
      "label: nan, score: nan, xyz: [32.66, 47.58, 1.48], wlh: [2.88, 6.37, 2.98], rot axis: [-0.01, -0.02, -1.00], ang(degrees): -58.43, ang(rad): -1.02, vel: nan, nan, nan, name: vehicle.truck, token: 086e3f37a44e459987cde7a3ca273b5b\n",
      "Num Radar Points:0\n",
      "Num Radar Points:0\n",
      "Num Radar Points:6\n",
      "label: nan, score: nan, xyz: [23.08, 19.42, 0.87], wlh: [2.16, 6.23, 2.60], rot axis: [0.01, -0.01, 1.00], ang(degrees): -119.20, ang(rad): -2.08, vel: nan, nan, nan, name: vehicle.truck, token: b0284e14d17a444a8d0071bd1f03a0a2\n",
      "New Sensor\n",
      "Num Radar Points:0\n",
      "Num Radar Points:0\n",
      "Num Radar Points:7\n",
      "label: nan, score: nan, xyz: [17.01, 10.26, 0.97], wlh: [2.31, 7.52, 3.09], rot axis: [0.01, -0.01, 1.00], ang(degrees): -124.69, ang(rad): -2.18, vel: nan, nan, nan, name: vehicle.truck, token: acce0b7220754600b700257a1de1573d\n",
      "Num Radar Points:2\n",
      "label: nan, score: nan, xyz: [-8.02, -9.21, 0.34], wlh: [1.64, 4.25, 1.44], rot axis: [0.01, -0.02, 1.00], ang(degrees): -69.40, ang(rad): -1.21, vel: nan, nan, nan, name: vehicle.car, token: 8d7cb5e96cae48c39ef4f9f75182013a\n",
      "Num Radar Points:0\n",
      "Num Radar Points:3\n",
      "label: nan, score: nan, xyz: [-15.68, -0.38, 0.44], wlh: [1.87, 4.48, 1.46], rot axis: [0.01, -0.05, 1.00], ang(degrees): -27.32, ang(rad): -0.48, vel: nan, nan, nan, name: vehicle.car, token: f9dba7f32ed34ee8adc92096af767868\n",
      "Num Radar Points:3\n",
      "label: nan, score: nan, xyz: [32.66, 47.58, 1.48], wlh: [2.88, 6.37, 2.98], rot axis: [-0.01, -0.02, -1.00], ang(degrees): -58.43, ang(rad): -1.02, vel: nan, nan, nan, name: vehicle.truck, token: 086e3f37a44e459987cde7a3ca273b5b\n",
      "Num Radar Points:0\n",
      "Num Radar Points:0\n",
      "Num Radar Points:6\n",
      "label: nan, score: nan, xyz: [23.08, 19.42, 0.87], wlh: [2.16, 6.23, 2.60], rot axis: [0.01, -0.01, 1.00], ang(degrees): -119.20, ang(rad): -2.08, vel: nan, nan, nan, name: vehicle.truck, token: b0284e14d17a444a8d0071bd1f03a0a2\n",
      "New Sensor\n",
      "Num Radar Points:0\n",
      "Num Radar Points:0\n",
      "Num Radar Points:7\n",
      "label: nan, score: nan, xyz: [17.01, 10.26, 0.97], wlh: [2.31, 7.52, 3.09], rot axis: [0.01, -0.01, 1.00], ang(degrees): -124.69, ang(rad): -2.18, vel: nan, nan, nan, name: vehicle.truck, token: acce0b7220754600b700257a1de1573d\n",
      "Num Radar Points:2\n",
      "label: nan, score: nan, xyz: [-8.02, -9.21, 0.34], wlh: [1.64, 4.25, 1.44], rot axis: [0.01, -0.02, 1.00], ang(degrees): -69.40, ang(rad): -1.21, vel: nan, nan, nan, name: vehicle.car, token: 8d7cb5e96cae48c39ef4f9f75182013a\n",
      "Num Radar Points:0\n",
      "Num Radar Points:3\n",
      "label: nan, score: nan, xyz: [-15.68, -0.38, 0.44], wlh: [1.87, 4.48, 1.46], rot axis: [0.01, -0.05, 1.00], ang(degrees): -27.32, ang(rad): -0.48, vel: nan, nan, nan, name: vehicle.car, token: f9dba7f32ed34ee8adc92096af767868\n",
      "Num Radar Points:3\n",
      "label: nan, score: nan, xyz: [32.66, 47.58, 1.48], wlh: [2.88, 6.37, 2.98], rot axis: [-0.01, -0.02, -1.00], ang(degrees): -58.43, ang(rad): -1.02, vel: nan, nan, nan, name: vehicle.truck, token: 086e3f37a44e459987cde7a3ca273b5b\n",
      "Num Radar Points:0\n",
      "Num Radar Points:0\n",
      "Num Radar Points:6\n",
      "label: nan, score: nan, xyz: [23.08, 19.42, 0.87], wlh: [2.16, 6.23, 2.60], rot axis: [0.01, -0.01, 1.00], ang(degrees): -119.20, ang(rad): -2.08, vel: nan, nan, nan, name: vehicle.truck, token: b0284e14d17a444a8d0071bd1f03a0a2\n",
      "New Sensor\n",
      "Num Radar Points:0\n",
      "Num Radar Points:0\n",
      "Num Radar Points:7\n",
      "label: nan, score: nan, xyz: [17.01, 10.26, 0.97], wlh: [2.31, 7.52, 3.09], rot axis: [0.01, -0.01, 1.00], ang(degrees): -124.69, ang(rad): -2.18, vel: nan, nan, nan, name: vehicle.truck, token: acce0b7220754600b700257a1de1573d\n",
      "Num Radar Points:2\n",
      "label: nan, score: nan, xyz: [-8.02, -9.21, 0.34], wlh: [1.64, 4.25, 1.44], rot axis: [0.01, -0.02, 1.00], ang(degrees): -69.40, ang(rad): -1.21, vel: nan, nan, nan, name: vehicle.car, token: 8d7cb5e96cae48c39ef4f9f75182013a\n",
      "Num Radar Points:0\n",
      "Num Radar Points:3\n",
      "label: nan, score: nan, xyz: [-15.68, -0.38, 0.44], wlh: [1.87, 4.48, 1.46], rot axis: [0.01, -0.05, 1.00], ang(degrees): -27.32, ang(rad): -0.48, vel: nan, nan, nan, name: vehicle.car, token: f9dba7f32ed34ee8adc92096af767868\n",
      "Num Radar Points:3\n",
      "label: nan, score: nan, xyz: [32.66, 47.58, 1.48], wlh: [2.88, 6.37, 2.98], rot axis: [-0.01, -0.02, -1.00], ang(degrees): -58.43, ang(rad): -1.02, vel: nan, nan, nan, name: vehicle.truck, token: 086e3f37a44e459987cde7a3ca273b5b\n",
      "Num Radar Points:0\n",
      "Num Radar Points:0\n",
      "Num Radar Points:6\n",
      "label: nan, score: nan, xyz: [23.08, 19.42, 0.87], wlh: [2.16, 6.23, 2.60], rot axis: [0.01, -0.01, 1.00], ang(degrees): -119.20, ang(rad): -2.08, vel: nan, nan, nan, name: vehicle.truck, token: b0284e14d17a444a8d0071bd1f03a0a2\n",
      "[22.79999924 17.29999924  0.        ]\n"
     ]
    }
   ],
   "source": [
    "fieldnames = ['sample_annotation_token','category','x','y','z','dyn_prop','id','rcs','vx','vy','vx_comp','vy_comp','is_quality_valid','ambig_state','x_rms','y_rms','invalid_state','pdh0','vx_rms','vy_rms']\n",
    "with open('eggs.csv', 'w') as csvfile:\n",
    "    writer = csv.DictWriter(csvfile, fieldnames=fieldnames)\n",
    "    writer.writeheader()\n",
    "    \n",
    "    #Loop over all samples avialable\n",
    "    for sample in samples:\n",
    "        print(\"New Sample\")\n",
    "        #Obtain all radar sample_data(SD) tokens for this sample\n",
    "        FC_RadarSD = nusc.get('sample_data', sample['data']['RADAR_FRONT'])\n",
    "        FL_RadarSD = nusc.get('sample_data', sample['data']['RADAR_FRONT_LEFT'])\n",
    "        FR_RadarSD = nusc.get('sample_data', sample['data']['RADAR_FRONT_RIGHT'])\n",
    "        RL_RadarSD = nusc.get('sample_data', sample['data']['RADAR_BACK_LEFT'])\n",
    "        RR_RadarSD = nusc.get('sample_data', sample['data']['RADAR_BACK_RIGHT'])\n",
    "\n",
    "        #GRAB Path to point clouds (pc_path), and all annotation (boxes) with this sensor data associated with them.\n",
    "        #Note that boxes are transformed into sensor frame, so we need a new list of boxes for each sensor. array is only used for cameras\n",
    "        FC_pc_path, boxesFC, array = nusc.get_sample_data(FC_RadarSD['token'])\n",
    "        FL_pc_path, boxesFL, array = nusc.get_sample_data(FL_RadarSD['token'])\n",
    "        FR_pc_path, boxesFR, array = nusc.get_sample_data(FR_RadarSD['token'])\n",
    "        RL_pc_path, boxesRL, array = nusc.get_sample_data(RL_RadarSD['token'])\n",
    "        RR_pc_path, boxesRR, array = nusc.get_sample_data(RR_RadarSD['token'])\n",
    "        boxes = [boxesFC,boxesFL,boxesFR,boxesRL,boxesRR]\n",
    "\n",
    "        #Obtain each radar point cloud for this sample\n",
    "        FC_pc = RadarPointCloud.from_file(FC_pc_path,invalid_states=keepValidities,ambig_states=keepAmbigStates)\n",
    "        FC_points = np.array(FC_pc.points[:3, :])\n",
    "        FL_pc = RadarPointCloud.from_file(FL_pc_path,invalid_states=keepValidities,ambig_states=keepAmbigStates)\n",
    "        FL_points = np.array(FL_pc.points[:3, :])\n",
    "        FR_pc = RadarPointCloud.from_file(FR_pc_path,invalid_states=keepValidities,ambig_states=keepAmbigStates)\n",
    "        FR_points = np.array(FR_pc.points[:3, :])\n",
    "        RL_pc = RadarPointCloud.from_file(RL_pc_path,invalid_states=keepValidities,ambig_states=keepAmbigStates)\n",
    "        RL_points = np.array(RL_pc.points[:3, :])\n",
    "        RR_pc = RadarPointCloud.from_file(RR_pc_path,invalid_states=keepValidities,ambig_states=keepAmbigStates)\n",
    "        RR_points = np.array(RR_pc.points[:3, :])\n",
    "        #Collect all point clouds into one ndarray\n",
    "        point_clouds = [FC_points,FL_points,FR_points,RL_points,RR_points]\n",
    "        full_point_clouds = [FC_pc,FL_pc,FR_pc,RL_pc,RR_pc]\n",
    "\n",
    "        senosor_num=0\n",
    "        for pc in point_clouds:\n",
    "            print(\"New Sensor\")\n",
    "            this_sensor_boxes = boxes[senosor_num]\n",
    "            this_sensor_full_pc = full_point_clouds[senosor_num]\n",
    "            dims, num_points=pc.shape\n",
    "            for box in this_sensor_boxes:\n",
    "                box_annotation = nusc.get('sample_annotation',box.token)\n",
    "                print(\"Num Radar Points:\" + str(box_annotation['num_radar_pts']))\n",
    "                if box_annotation['num_radar_pts'] == 0:\n",
    "                    continue\n",
    "                print(box)\n",
    "                category = box_annotation['category_name']\n",
    "                point_in_box_result = points_in_box(box, pc)\n",
    "                for i in range(0, num_points):\n",
    "                    if point_in_box_result[i]:\n",
    "                        print(pc[:3,i])\n",
    "                        writer.writerow({\n",
    "                        'sample_annotation_token': box_annotation['token'],\n",
    "                        'category': category,\n",
    "                         'x': this_sensor_full_pc.points[0,i],\n",
    "                         'y': this_sensor_full_pc.points[1,i],\n",
    "                         'z': this_sensor_full_pc.points[2,i],\n",
    "                         'dyn_prop': this_sensor_full_pc.points[3,i],\n",
    "                         'id': this_sensor_full_pc.points[4,i],\n",
    "                         'rcs': this_sensor_full_pc.points[5,i],\n",
    "                         'vx': this_sensor_full_pc.points[6,i],\n",
    "                         'vy': this_sensor_full_pc.points[7,i],\n",
    "                         'vx_comp': this_sensor_full_pc.points[8,i],\n",
    "                         'vy_comp': this_sensor_full_pc.points[9,i],\n",
    "                         'is_quality_valid': this_sensor_full_pc.points[10,i],\n",
    "                         'ambig_state': this_sensor_full_pc.points[11,i],\n",
    "                         'x_rms': this_sensor_full_pc.points[12,i],\n",
    "                         'y_rms': this_sensor_full_pc.points[13,i],\n",
    "                         'invalid_state': this_sensor_full_pc.points[14,i],\n",
    "                         'pdh0': this_sensor_full_pc.points[15,i],\n",
    "                         'vx_rms': this_sensor_full_pc.points[16,i],\n",
    "                         'vy_rms': this_sensor_full_pc.points[17,i]})\n",
    "                        #print(this_sensor_full_pc.points[:,i])\n",
    "        break\n",
    "\n",
    "\n",
    "\n",
    "        \n",
    "        \n",
    "            \n",
    "        \n",
    "    "
   ]
  },
  {
   "cell_type": "code",
   "execution_count": 17,
   "metadata": {},
   "outputs": [
    {
     "data": {
      "text/plain": [
       "{'token': 'b0284e14d17a444a8d0071bd1f03a0a2',\n",
       " 'sample_token': 'e93e98b63d3b40209056d129dc53ceee',\n",
       " 'instance_token': 'a1f53dd65da64eb2b0cec51d57b8c047',\n",
       " 'visibility_token': '4',\n",
       " 'attribute_tokens': ['58aa28b1c2a54dc88e169808c07331e3'],\n",
       " 'translation': [994.117, 639.415, 1.981],\n",
       " 'size': [2.156, 6.227, 2.601],\n",
       " 'rotation': [0.9503529315429128, 0.0, 0.0, -0.3111740758928862],\n",
       " 'prev': '',\n",
       " 'next': '405f156885d549ca812e1305eddee42f',\n",
       " 'num_lidar_pts': 42,\n",
       " 'num_radar_pts': 6,\n",
       " 'category_name': 'vehicle.truck'}"
      ]
     },
     "execution_count": 17,
     "metadata": {},
     "output_type": "execute_result"
    }
   ],
   "source": [
    "box_annotation"
   ]
  },
  {
   "cell_type": "code",
   "execution_count": 3,
   "metadata": {},
   "outputs": [
    {
     "ename": "SyntaxError",
     "evalue": "unexpected EOF while parsing (<ipython-input-3-c18552893530>, line 2)",
     "output_type": "error",
     "traceback": [
      "\u001b[0;36m  File \u001b[0;32m\"<ipython-input-3-c18552893530>\"\u001b[0;36m, line \u001b[0;32m2\u001b[0m\n\u001b[0;31m    \u001b[0m\n\u001b[0m    ^\u001b[0m\n\u001b[0;31mSyntaxError\u001b[0m\u001b[0;31m:\u001b[0m unexpected EOF while parsing\n"
     ]
    }
   ],
   "source": [
    "def intersecting_points(points, boxes, ):\n",
    "    "
   ]
  },
  {
   "cell_type": "code",
   "execution_count": null,
   "metadata": {},
   "outputs": [],
   "source": [
    "   #For each sample, loop over each sample_annotation\n",
    "    for annotationToken in sample['anns']\n",
    "\n",
    "annotation = nusc.get('sample_annotation',annotationToken)\n",
    "        num_radar_points=annotation['num_radar_pts']\n",
    "        \n",
    "        #Make sure the annotation includes radar points, otherwise skip it\n",
    "        if num_radar_points == 0:\n",
    "            continue"
   ]
  }
 ],
 "metadata": {
  "kernelspec": {
   "display_name": "Python 3",
   "language": "python",
   "name": "python3"
  },
  "language_info": {
   "codemirror_mode": {
    "name": "ipython",
    "version": 3
   },
   "file_extension": ".py",
   "mimetype": "text/x-python",
   "name": "python",
   "nbconvert_exporter": "python",
   "pygments_lexer": "ipython3",
   "version": "3.7.3"
  },
  "varInspector": {
   "cols": {
    "lenName": 16,
    "lenType": 16,
    "lenVar": 40
   },
   "kernels_config": {
    "python": {
     "delete_cmd_postfix": "",
     "delete_cmd_prefix": "del ",
     "library": "var_list.py",
     "varRefreshCmd": "print(var_dic_list())"
    },
    "r": {
     "delete_cmd_postfix": ") ",
     "delete_cmd_prefix": "rm(",
     "library": "var_list.r",
     "varRefreshCmd": "cat(var_dic_list()) "
    }
   },
   "types_to_exclude": [
    "module",
    "function",
    "builtin_function_or_method",
    "instance",
    "_Feature"
   ],
   "window_display": false
  }
 },
 "nbformat": 4,
 "nbformat_minor": 2
}
