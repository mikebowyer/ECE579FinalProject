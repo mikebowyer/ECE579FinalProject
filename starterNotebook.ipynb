{
 "cells": [
  {
   "cell_type": "code",
   "execution_count": 17,
   "metadata": {},
   "outputs": [],
   "source": [
    "%matplotlib inline\n",
    "from nuscenes.nuscenes import NuScenes\n",
    "from nuscenes.utils.data_classes import LidarPointCloud, RadarPointCloud, Box\n",
    "from nuscenes.utils.geometry_utils import points_in_box\n",
    "from enum import IntEnum\n",
    "from typing import Tuple\n",
    "\n",
    "import numpy as np\n",
    "from pyquaternion import Quaternion"
   ]
  },
  {
   "cell_type": "code",
   "execution_count": 2,
   "metadata": {},
   "outputs": [
    {
     "name": "stdout",
     "output_type": "stream",
     "text": [
      "======\n",
      "Loading NuScenes tables for version v1.0-trainval ...\n",
      "23 category,\n",
      "8 attribute,\n",
      "4 visibility,\n",
      "64386 instance,\n",
      "12 sensor,\n",
      "10200 calibrated_sensor,\n",
      "2631083 ego_pose,\n",
      "68 log,\n",
      "850 scene,\n",
      "34149 sample,\n",
      "2631083 sample_data,\n",
      "1166187 sample_annotation,\n",
      "4 map,\n",
      "Done loading in 27.8 seconds.\n",
      "======\n",
      "Reverse indexing ...\n",
      "Done reverse indexing in 6.9 seconds.\n",
      "======\n"
     ]
    }
   ],
   "source": [
    "nusc = NuScenes(version='v1.0-trainval', dataroot='/home/mike/workspaces/ECE579/data', verbose=True)"
   ]
  },
  {
   "cell_type": "code",
   "execution_count": 55,
   "metadata": {},
   "outputs": [
    {
     "data": {
      "text/plain": [
       "{'token': 'e93e98b63d3b40209056d129dc53ceee',\n",
       " 'timestamp': 1531883530449377,\n",
       " 'prev': '',\n",
       " 'next': '14d5adfe50bb4445bc3aa5fe607691a8',\n",
       " 'scene_token': '73030fb67d3c46cfb5e590168088ae39',\n",
       " 'data': {'RADAR_FRONT': 'bddd80ae33ec4e32b27fdb3c1160a30e',\n",
       "  'RADAR_FRONT_LEFT': '1a08aec0958e42ebb37d26612a2cfc57',\n",
       "  'RADAR_FRONT_RIGHT': '282fa8d7a3f34b68b56fb1e22e697668',\n",
       "  'RADAR_BACK_LEFT': '05fc4678025246f3adf8e9b8a0a0b13b',\n",
       "  'RADAR_BACK_RIGHT': '31b8099fb1c44c6381c3c71b335750bb',\n",
       "  'LIDAR_TOP': '3388933b59444c5db71fade0bbfef470',\n",
       "  'CAM_FRONT': '020d7b4f858147558106c504f7f31bef',\n",
       "  'CAM_FRONT_RIGHT': '16d39ff22a8545b0a4ee3236a0fe1c20',\n",
       "  'CAM_BACK_RIGHT': 'ec7096278e484c9ebe6894a2ad5682e9',\n",
       "  'CAM_BACK': 'aab35aeccbda42de82b2ff5c278a0d48',\n",
       "  'CAM_BACK_LEFT': '86e6806d626b4711a6d0f5015b090116',\n",
       "  'CAM_FRONT_LEFT': '24332e9c554a406f880430f17771b608'},\n",
       " 'anns': ['173a50411564442ab195e132472fde71',\n",
       "  '5123ed5e450948ac8dc381772f2ae29a',\n",
       "  'acce0b7220754600b700257a1de1573d',\n",
       "  '8d7cb5e96cae48c39ef4f9f75182013a',\n",
       "  'f64bfd3d4ddf46d7a366624605cb7e91',\n",
       "  'f9dba7f32ed34ee8adc92096af767868',\n",
       "  '086e3f37a44e459987cde7a3ca273b5b',\n",
       "  '3964235c58a745df8589b6a626c29985',\n",
       "  '31a96b9503204a8688da75abcd4b56b2',\n",
       "  'b0284e14d17a444a8d0071bd1f03a0a2']}"
      ]
     },
     "execution_count": 55,
     "metadata": {},
     "output_type": "execute_result"
    }
   ],
   "source": [
    "#Grab first scence\n",
    "my_scene = nusc.scene[0]\n",
    "#grab first sample from scene\n",
    "first_sample_token = my_scene['first_sample_token']\n",
    "my_sample = nusc.get('sample', first_sample_token)\n",
    "my_sample"
   ]
  },
  {
   "cell_type": "code",
   "execution_count": 153,
   "metadata": {},
   "outputs": [
    {
     "data": {
      "text/plain": [
       "{'token': 'acce0b7220754600b700257a1de1573d',\n",
       " 'sample_token': 'e93e98b63d3b40209056d129dc53ceee',\n",
       " 'instance_token': '39b6c31c9925492a8a9f1b0ef3b877b6',\n",
       " 'visibility_token': '4',\n",
       " 'attribute_tokens': ['58aa28b1c2a54dc88e169808c07331e3'],\n",
       " 'translation': [1002.464, 632.267, 1.936],\n",
       " 'size': [2.312, 7.516, 3.093],\n",
       " 'rotation': [0.9343569321017062, 0.0, 0.0, -0.35633849558178193],\n",
       " 'prev': '',\n",
       " 'next': '4b1c1acb00c04dfe84e54f64a8381649',\n",
       " 'num_lidar_pts': 171,\n",
       " 'num_radar_pts': 7,\n",
       " 'category_name': 'vehicle.truck'}"
      ]
     },
     "execution_count": 153,
     "metadata": {},
     "output_type": "execute_result"
    }
   ],
   "source": [
    "#Grab first annotation from sample\n",
    "samplenum=2\n",
    "my_firstannotationToken = my_sample['anns'][samplenum]\n",
    "my_firstannotationToken\n",
    "nusc.get('sample_annotation',my_firstannotationToken)"
   ]
  },
  {
   "cell_type": "code",
   "execution_count": 154,
   "metadata": {},
   "outputs": [
    {
     "name": "stdout",
     "output_type": "stream",
     "text": [
      "Sample: e93e98b63d3b40209056d129dc53ceee\n",
      "\n",
      "sample_data_token: bddd80ae33ec4e32b27fdb3c1160a30e, mod: radar, channel: RADAR_FRONT\n",
      "sample_data_token: 1a08aec0958e42ebb37d26612a2cfc57, mod: radar, channel: RADAR_FRONT_LEFT\n",
      "sample_data_token: 282fa8d7a3f34b68b56fb1e22e697668, mod: radar, channel: RADAR_FRONT_RIGHT\n",
      "sample_data_token: 05fc4678025246f3adf8e9b8a0a0b13b, mod: radar, channel: RADAR_BACK_LEFT\n",
      "sample_data_token: 31b8099fb1c44c6381c3c71b335750bb, mod: radar, channel: RADAR_BACK_RIGHT\n",
      "sample_data_token: 3388933b59444c5db71fade0bbfef470, mod: lidar, channel: LIDAR_TOP\n",
      "sample_data_token: 020d7b4f858147558106c504f7f31bef, mod: camera, channel: CAM_FRONT\n",
      "sample_data_token: 16d39ff22a8545b0a4ee3236a0fe1c20, mod: camera, channel: CAM_FRONT_RIGHT\n",
      "sample_data_token: ec7096278e484c9ebe6894a2ad5682e9, mod: camera, channel: CAM_BACK_RIGHT\n",
      "sample_data_token: aab35aeccbda42de82b2ff5c278a0d48, mod: camera, channel: CAM_BACK\n",
      "sample_data_token: 86e6806d626b4711a6d0f5015b090116, mod: camera, channel: CAM_BACK_LEFT\n",
      "sample_data_token: 24332e9c554a406f880430f17771b608, mod: camera, channel: CAM_FRONT_LEFT\n",
      "\n",
      "sample_annotation_token: 173a50411564442ab195e132472fde71, category: movable_object.trafficcone\n",
      "sample_annotation_token: 5123ed5e450948ac8dc381772f2ae29a, category: movable_object.trafficcone\n",
      "sample_annotation_token: acce0b7220754600b700257a1de1573d, category: vehicle.truck\n",
      "sample_annotation_token: 8d7cb5e96cae48c39ef4f9f75182013a, category: vehicle.car\n",
      "sample_annotation_token: f64bfd3d4ddf46d7a366624605cb7e91, category: human.pedestrian.construction_worker\n",
      "sample_annotation_token: f9dba7f32ed34ee8adc92096af767868, category: vehicle.car\n",
      "sample_annotation_token: 086e3f37a44e459987cde7a3ca273b5b, category: vehicle.truck\n",
      "sample_annotation_token: 3964235c58a745df8589b6a626c29985, category: human.pedestrian.construction_worker\n",
      "sample_annotation_token: 31a96b9503204a8688da75abcd4b56b2, category: movable_object.trafficcone\n",
      "sample_annotation_token: b0284e14d17a444a8d0071bd1f03a0a2, category: vehicle.truck\n"
     ]
    }
   ],
   "source": [
    "nusc.list_sample(my_sample['token'])"
   ]
  },
  {
   "cell_type": "code",
   "execution_count": 155,
   "metadata": {
    "scrolled": true
   },
   "outputs": [],
   "source": [
    "#Grab sensor data for sample\n",
    "FCRadarData = nusc.get('sample_data', my_sample['data']['RADAR_FRONT'])\n",
    "FLRadarData = nusc.get('sample_data', my_sample['data']['RADAR_FRONT_LEFT'])\n",
    "FRRadarData = nusc.get('sample_data', my_sample['data']['RADAR_FRONT_RIGHT'])\n",
    "RLRadarData = nusc.get('sample_data', my_sample['data']['RADAR_BACK_LEFT'])\n",
    "RRRadarData = nusc.get('sample_data', my_sample['data']['RADAR_BACK_RIGHT'])"
   ]
  },
  {
   "cell_type": "code",
   "execution_count": 156,
   "metadata": {},
   "outputs": [],
   "source": [
    "#GRAB Path to point clouds (pc_path), and all annotation boxes with this sensor data associated with them.\n",
    "#Note that boxes are transformed into sensor frame, so we need a new list of boxes for each sensor\n",
    "FC_pc_path, boxesFC, array = nusc.get_sample_data(FCRadarData['token'])\n",
    "FL_pc_path, boxesFL, array = nusc.get_sample_data(FLRadarData['token'])\n",
    "FR_pc_path, boxesFR, array = nusc.get_sample_data(FRRadarData['token'])\n",
    "RL_pc_path, boxesRL, array = nusc.get_sample_data(RLRadarData['token'])\n",
    "RR_pc_path, boxesRR, array = nusc.get_sample_data(RRRadarData['token'])"
   ]
  },
  {
   "cell_type": "code",
   "execution_count": 157,
   "metadata": {
    "scrolled": false
   },
   "outputs": [
    {
     "name": "stdout",
     "output_type": "stream",
     "text": [
      "label: nan, score: nan, xyz: [17.01, 10.26, 0.97], wlh: [2.31, 7.52, 3.09], rot axis: [0.01, -0.01, 1.00], ang(degrees): -124.69, ang(rad): -2.18, vel: nan, nan, nan, name: vehicle.truck, token: acce0b7220754600b700257a1de1573d\n",
      "label: nan, score: nan, xyz: [9.77, -17.63, 0.69], wlh: [2.31, 7.52, 3.09], rot axis: [0.00, -0.01, 1.00], ang(degrees): 146.40, ang(rad): 2.56, vel: nan, nan, nan, name: vehicle.truck, token: acce0b7220754600b700257a1de1573d\n",
      "label: nan, score: nan, xyz: [-11.40, 17.77, 0.70], wlh: [2.31, 7.52, 3.09], rot axis: [0.04, 0.01, 1.00], ang(degrees): -33.59, ang(rad): -0.59, vel: nan, nan, nan, name: vehicle.truck, token: acce0b7220754600b700257a1de1573d\n",
      "label: nan, score: nan, xyz: [-19.89, -11.53, 0.94], wlh: [2.31, 7.52, 3.09], rot axis: [-0.01, -0.02, 1.00], ang(degrees): 60.68, ang(rad): 1.06, vel: nan, nan, nan, name: vehicle.truck, token: acce0b7220754600b700257a1de1573d\n",
      "label: nan, score: nan, xyz: [-21.57, -9.25, 0.94], wlh: [2.31, 7.52, 3.09], rot axis: [0.01, 0.02, -1.00], ang(degrees): -50.93, ang(rad): -0.89, vel: nan, nan, nan, name: vehicle.truck, token: acce0b7220754600b700257a1de1573d\n",
      "True\n",
      "{'token': 'acce0b7220754600b700257a1de1573d', 'sample_token': 'e93e98b63d3b40209056d129dc53ceee', 'instance_token': '39b6c31c9925492a8a9f1b0ef3b877b6', 'visibility_token': '4', 'attribute_tokens': ['58aa28b1c2a54dc88e169808c07331e3'], 'translation': [1002.464, 632.267, 1.936], 'size': [2.312, 7.516, 3.093], 'rotation': [0.9343569321017062, 0.0, 0.0, -0.35633849558178193], 'prev': '', 'next': '4b1c1acb00c04dfe84e54f64a8381649', 'num_lidar_pts': 171, 'num_radar_pts': 7, 'category_name': 'vehicle.truck'}\n"
     ]
    },
    {
     "data": {
      "image/png": "[encoded data removed]",
      "text/plain": [
       "<Figure size 648x648 with 1 Axes>"
      ]
     },
     "metadata": {
      "needs_background": "light"
     },
     "output_type": "display_data"
    },
    {
     "data": {
      "image/png": "[encoded data removed]",
      "text/plain": [
       "<Figure size 648x648 with 1 Axes>"
      ]
     },
     "metadata": {
      "needs_background": "light"
     },
     "output_type": "display_data"
    },
    {
     "data": {
      "image/png": "[encoded data removed]",
      "text/plain": [
       "<Figure size 648x648 with 1 Axes>"
      ]
     },
     "metadata": {
      "needs_background": "light"
     },
     "output_type": "display_data"
    },
    {
     "data": {
      "image/png": "[encoded data removed]",
      "text/plain": [
       "<Figure size 648x648 with 1 Axes>"
      ]
     },
     "metadata": {
      "needs_background": "light"
     },
     "output_type": "display_data"
    },
    {
     "data": {
      "image/png": "[encoded data removed]",
      "text/plain": [
       "<Figure size 648x648 with 1 Axes>"
      ]
     },
     "metadata": {
      "needs_background": "light"
     },
     "output_type": "display_data"
    }
   ],
   "source": [
    "#Check to see if each box from each box list is the same annotation\n",
    "mybox_FC = boxesFC[samplenum]\n",
    "print(mybox_FC)\n",
    "mybox_FL = boxesFL[samplenum]\n",
    "print(mybox_FL)\n",
    "mybox_FR = boxesFR[samplenum]\n",
    "print(mybox_FR)\n",
    "mybox_RL = boxesRL[samplenum]\n",
    "print(mybox_RL)\n",
    "mybox_RR = boxesRR[samplenum]\n",
    "print(mybox_RR)\n",
    "myannoFC=nusc.get('sample_annotation',mybox_FC.token)\n",
    "myannoFL=nusc.get('sample_annotation',mybox_FL.token)\n",
    "myannoFR=nusc.get('sample_annotation',mybox_FR.token)\n",
    "myannoRL=nusc.get('sample_annotation',mybox_RL.token)\n",
    "myannoRR=nusc.get('sample_annotation',mybox_RR.token)\n",
    "\n",
    "print(myannoFC ==myannoFL ==myannoFR ==myannoRL== myannoRR)\n",
    "print(myannoRR)\n",
    "\n",
    "nusc.render_sample_data(FCRadarData['token'],axes_limit =16,nsweeps=2)\n",
    "nusc.render_sample_data(FLRadarData['token'],axes_limit =16,nsweeps=2)\n",
    "nusc.render_sample_data(FRRadarData['token'],axes_limit =16,nsweeps=2)\n",
    "nusc.render_sample_data(RLRadarData['token'],axes_limit =16,nsweeps=2)\n",
    "nusc.render_sample_data(RRRadarData['token'],axes_limit =16,nsweeps=2)\n",
    "#nusc.get('sample_annotation',my_firstannotationToken)"
   ]
  },
  {
   "cell_type": "code",
   "execution_count": 158,
   "metadata": {},
   "outputs": [
    {
     "name": "stdout",
     "output_type": "stream",
     "text": [
      "36\n",
      "34\n",
      "10\n",
      "54\n",
      "63\n"
     ]
    }
   ],
   "source": [
    "FC_pc = RadarPointCloud.from_file(FC_pc_path)\n",
    "FL_pc = RadarPointCloud.from_file(FL_pc_path)\n",
    "FR_pc = RadarPointCloud.from_file(FR_pc_path)\n",
    "RL_pc = RadarPointCloud.from_file(RL_pc_path)\n",
    "RR_pc = RadarPointCloud.from_file(RR_pc_path)\n",
    "print(FC_pc.nbr_points())\n",
    "print(FL_pc.nbr_points())\n",
    "print(FR_pc.nbr_points())\n",
    "print(RL_pc.nbr_points())\n",
    "print(RR_pc.nbr_points())"
   ]
  },
  {
   "cell_type": "code",
   "execution_count": 159,
   "metadata": {},
   "outputs": [
    {
     "name": "stdout",
     "output_type": "stream",
     "text": [
      "88\n",
      "104\n",
      "43\n",
      "125\n",
      "125\n"
     ]
    }
   ],
   "source": [
    "invalids=[0x00,0x01,0x02,0x03,0x05,0x06,0x07,0x0d,0x0e,0x04,0x08,0x09,0x0a,0x0b,0x0c,0x0f,0x10,0x11]\n",
    "FC_pc = RadarPointCloud.from_file(FC_pc_path,invalid_states=invalids,ambig_states=range(4))\n",
    "FC_pc = RadarPointCloud.from_file(FC_pc_path,invalid_states=invalids,ambig_states=range(4))\n",
    "FL_pc = RadarPointCloud.from_file(FL_pc_path,invalid_states=invalids,ambig_states=range(4))\n",
    "FR_pc = RadarPointCloud.from_file(FR_pc_path,invalid_states=invalids,ambig_states=range(4))\n",
    "RL_pc = RadarPointCloud.from_file(RL_pc_path,invalid_states=invalids,ambig_states=range(4))\n",
    "RR_pc = RadarPointCloud.from_file(RR_pc_path,invalid_states=invalids,ambig_states=range(4))\n",
    "print(FC_pc2.nbr_points())\n",
    "print(FL_pc2.nbr_points())\n",
    "print(FR_pc2.nbr_points())\n",
    "print(RL_pc2.nbr_points())\n",
    "print(RR_pc2.nbr_points())"
   ]
  },
  {
   "cell_type": "code",
   "execution_count": 160,
   "metadata": {},
   "outputs": [
    {
     "data": {
      "text/plain": [
       "array([[  8.39999962,   6.4000001 ,   9.39999962,  14.60000038,\n",
       "         15.        ,  14.        ,  15.60000038,  17.20000076,\n",
       "         16.39999962,  16.39999962,  18.20000076,  16.20000076,\n",
       "         17.79999924,  19.60000038,  17.39999962,  21.20000076,\n",
       "         17.        ,  17.39999962,  17.79999924,  21.79999924,\n",
       "         22.39999962,  24.        ,  23.        ,  25.79999924,\n",
       "         24.        ,  21.20000076,  22.20000076,  28.20000076,\n",
       "         29.39999962,  22.79999924,  23.79999924,  30.39999962,\n",
       "         24.        ,  31.79999924,  32.59999847,  35.        ,\n",
       "         35.40000153,  36.40000153,  36.79999924,  36.79999924,\n",
       "         37.        ,  37.59999847,  16.60000038,  38.40000153,\n",
       "         39.59999847,  34.59999847,  32.40000153,  39.79999924,\n",
       "         31.39999962,  43.20000076,  39.59999847,  40.40000153,\n",
       "         31.20000076,  31.79999924,  33.        ,  57.20000076,\n",
       "         59.20000076,  55.79999924,  36.40000153,  37.20000076,\n",
       "         46.20000076,  66.59999847,  67.        ,  69.80000305,\n",
       "         71.80000305,  72.80000305,  73.80000305,  72.19999695,\n",
       "         76.19999695,  79.19999695,  77.40000153,  12.19999981,\n",
       "         15.        ,  17.60000038,  19.        ,  22.39999962,\n",
       "         22.39999962,  24.        ,  35.40000153,  35.        ,\n",
       "         35.20000076,  36.59999847,  36.20000076,  36.20000076,\n",
       "         39.20000076,  39.40000153,  72.59999847,  74.19999695],\n",
       "       [ -5.30000019, -10.5       ,  -9.89999962,   2.29999995,\n",
       "          7.5       ,  -9.30000019,  -6.9000001 ,  -5.0999999 ,\n",
       "          7.5       ,   8.89999962,  -5.0999999 ,  10.69999981,\n",
       "         -8.69999981,   2.29999995,  11.5       ,   1.29999995,\n",
       "        -13.69999981, -13.30000019,  13.10000038,   4.69999981,\n",
       "          1.10000002,   1.29999995,  -7.69999981,  -0.1       ,\n",
       "         12.69999981,  17.10000038,  17.89999962,  11.30000019,\n",
       "          9.30000019,  20.89999962,  21.29999924,   9.10000038,\n",
       "         22.29999924,  10.30000019,   9.10000038,   0.69999999,\n",
       "          6.0999999 ,  -0.1       ,   2.29999995,  -2.70000005,\n",
       "         -4.9000001 ,  -4.30000019,  35.09999847,   5.30000019,\n",
       "          3.70000005,  22.89999962,  26.5       ,  13.10000038,\n",
       "         28.70000076,  13.30000019,  24.89999962,  35.90000153,\n",
       "         45.09999847,  46.29999924,  46.90000153,   5.5       ,\n",
       "          5.5       , -22.10000038,  50.09999847,  51.29999924,\n",
       "         46.09999847,   7.69999981,   7.69999981,   8.69999981,\n",
       "          9.30000019,   8.5       ,   9.30000019,  22.5       ,\n",
       "         20.10000038,  20.70000076,  54.5       ,   0.30000001,\n",
       "          2.29999995,   3.29999995,  -2.70000005,  -0.5       ,\n",
       "         -3.5       ,   3.0999999 ,   1.5       ,  -6.5       ,\n",
       "          6.30000019,   5.0999999 ,  -7.69999981,   7.0999999 ,\n",
       "          5.0999999 ,  -4.5       ,  -7.5       ,   8.30000019],\n",
       "       [  0.        ,   0.        ,   0.        ,   0.        ,\n",
       "          0.        ,   0.        ,   0.        ,   0.        ,\n",
       "          0.        ,   0.        ,   0.        ,   0.        ,\n",
       "          0.        ,   0.        ,   0.        ,   0.        ,\n",
       "          0.        ,   0.        ,   0.        ,   0.        ,\n",
       "          0.        ,   0.        ,   0.        ,   0.        ,\n",
       "          0.        ,   0.        ,   0.        ,   0.        ,\n",
       "          0.        ,   0.        ,   0.        ,   0.        ,\n",
       "          0.        ,   0.        ,   0.        ,   0.        ,\n",
       "          0.        ,   0.        ,   0.        ,   0.        ,\n",
       "          0.        ,   0.        ,   0.        ,   0.        ,\n",
       "          0.        ,   0.        ,   0.        ,   0.        ,\n",
       "          0.        ,   0.        ,   0.        ,   0.        ,\n",
       "          0.        ,   0.        ,   0.        ,   0.        ,\n",
       "          0.        ,   0.        ,   0.        ,   0.        ,\n",
       "          0.        ,   0.        ,   0.        ,   0.        ,\n",
       "          0.        ,   0.        ,   0.        ,   0.        ,\n",
       "          0.        ,   0.        ,   0.        ,   0.        ,\n",
       "          0.        ,   0.        ,   0.        ,   0.        ,\n",
       "          0.        ,   0.        ,   0.        ,   0.        ,\n",
       "          0.        ,   0.        ,   0.        ,   0.        ,\n",
       "          0.        ,   0.        ,   0.        ,   0.        ]])"
      ]
     },
     "execution_count": 160,
     "metadata": {},
     "output_type": "execute_result"
    }
   ],
   "source": [
    "FC_points = np.array(FC_pc.points[:3, :])\n",
    "#FC_points = FC_points.reshape(3,FC_pc.nbr_points())\n",
    "FL_points = FL_pc.points[:3, :]\n",
    "FL_points = FL_points.reshape(3,FL_pc.nbr_points())\n",
    "FR_points = FR_pc.points[:3, :]\n",
    "FR_points = FR_points.reshape(3,FR_pc.nbr_points())\n",
    "RL_points = RL_pc.points[:3, :]\n",
    "RL_points = RL_points.reshape(3,RL_pc.nbr_points())\n",
    "RR_points = RR_pc.points[:3, :]\n",
    "RR_points = RR_points.reshape(3,RR_pc.nbr_points())\n",
    "FC_points"
   ]
  },
  {
   "cell_type": "code",
   "execution_count": 161,
   "metadata": {},
   "outputs": [
    {
     "name": "stdout",
     "output_type": "stream",
     "text": [
      "6\n",
      "1\n",
      "0\n",
      "0\n",
      "0\n"
     ]
    }
   ],
   "source": [
    "print(sum(i==True for i in points_in_box(mybox_FC, FC_points)))\n",
    "print(sum(i==True for i in points_in_box(mybox_FL, FL_points)))\n",
    "print(sum(i==True for i in points_in_box(mybox_FR, FR_points)))\n",
    "print(sum(i==True for i in points_in_box(mybox_RL, RL_points)))\n",
    "print(sum(i==True for i in points_in_box(mybox_RR, RR_points)))"
   ]
  },
  {
   "cell_type": "code",
   "execution_count": 140,
   "metadata": {},
   "outputs": [
    {
     "data": {
      "text/plain": [
       "array([[0. , 0.5],\n",
       "       [0. , 0.5],\n",
       "       [0. , 0. ]])"
      ]
     },
     "execution_count": 140,
     "metadata": {},
     "output_type": "execute_result"
    }
   ],
   "source": [
    "points = np.array([[0.0, 0.0, 0.0], [0.5, 0.5, 0.0]]).transpose()\n",
    "points"
   ]
  },
  {
   "cell_type": "code",
   "execution_count": 141,
   "metadata": {},
   "outputs": [
    {
     "data": {
      "text/plain": [
       "array([[ -6.49220485,  -8.02492755,  -8.05775757,  -6.52503488,\n",
       "         -7.98813888,  -9.52086157,  -9.5536916 ,  -8.0209689 ],\n",
       "       [-10.90555938, -11.48225369, -11.48250693, -10.90581262,\n",
       "         -6.92767491,  -7.50436922,  -7.50462246,  -6.92792815],\n",
       "       [  1.02354089,   1.0585954 ,  -0.38103029,  -0.4160848 ,\n",
       "          1.05695527,   1.09200977,  -0.34761592,  -0.38267042]])"
      ]
     },
     "execution_count": 141,
     "metadata": {},
     "output_type": "execute_result"
    }
   ],
   "source": [
    "corner=mybox_FC.corners(wlh_factor=1)\n",
    "corner"
   ]
  },
  {
   "cell_type": "code",
   "execution_count": null,
   "metadata": {},
   "outputs": [],
   "source": []
  }
 ],
 "metadata": {
  "kernelspec": {
   "display_name": "Python 3",
   "language": "python",
   "name": "python3"
  },
  "language_info": {
   "codemirror_mode": {
    "name": "ipython",
    "version": 3
   },
   "file_extension": ".py",
   "mimetype": "text/x-python",
   "name": "python",
   "nbconvert_exporter": "python",
   "pygments_lexer": "ipython3",
   "version": "3.7.3"
  },
  "varInspector": {
   "cols": {
    "lenName": 16,
    "lenType": 16,
    "lenVar": 40
   },
   "kernels_config": {
    "python": {
     "delete_cmd_postfix": "",
     "delete_cmd_prefix": "del ",
     "library": "var_list.py",
     "varRefreshCmd": "print(var_dic_list())"
    },
    "r": {
     "delete_cmd_postfix": ") ",
     "delete_cmd_prefix": "rm(",
     "library": "var_list.r",
     "varRefreshCmd": "cat(var_dic_list()) "
    }
   },
   "oldHeight": 502.85,
   "position": {
    "height": "40px",
    "left": "1367px",
    "right": "15px",
    "top": "124px",
    "width": "471px"
   },
   "types_to_exclude": [
    "module",
    "function",
    "builtin_function_or_method",
    "instance",
    "_Feature"
   ],
   "varInspector_section_display": "none",
   "window_display": true
  }
 },
 "nbformat": 4,
 "nbformat_minor": 2
}
