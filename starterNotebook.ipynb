{
 "cells": [
  {
   "cell_type": "code",
   "execution_count": 1,
   "metadata": {},
   "outputs": [
    {
     "name": "stdout",
     "output_type": "stream",
     "text": [
      "======\n",
      "Loading NuScenes tables for version v1.0-trainval ...\n",
      "23 category,\n",
      "8 attribute,\n",
      "4 visibility,\n",
      "64386 instance,\n",
      "12 sensor,\n",
      "10200 calibrated_sensor,\n",
      "2631083 ego_pose,\n",
      "68 log,\n",
      "850 scene,\n",
      "34149 sample,\n",
      "2631083 sample_data,\n",
      "1166187 sample_annotation,\n",
      "4 map,\n",
      "Done loading in 27.1 seconds.\n",
      "======\n",
      "Reverse indexing ...\n",
      "Done reverse indexing in 6.7 seconds.\n",
      "======\n"
     ]
    }
   ],
   "source": [
    "%matplotlib inline\n",
    "from nuscenes.nuscenes import NuScenes\n",
    "\n",
    "nusc = NuScenes(version='v1.0-trainval', dataroot='/home/mike/workspaces/ECE579/data', verbose=True)"
   ]
  },
  {
   "cell_type": "code",
   "execution_count": 2,
   "metadata": {},
   "outputs": [
    {
     "data": {
      "text/plain": [
       "{'token': 'e93e98b63d3b40209056d129dc53ceee',\n",
       " 'timestamp': 1531883530449377,\n",
       " 'prev': '',\n",
       " 'next': '14d5adfe50bb4445bc3aa5fe607691a8',\n",
       " 'scene_token': '73030fb67d3c46cfb5e590168088ae39',\n",
       " 'data': {'RADAR_FRONT': 'bddd80ae33ec4e32b27fdb3c1160a30e',\n",
       "  'RADAR_FRONT_LEFT': '1a08aec0958e42ebb37d26612a2cfc57',\n",
       "  'RADAR_FRONT_RIGHT': '282fa8d7a3f34b68b56fb1e22e697668',\n",
       "  'RADAR_BACK_LEFT': '05fc4678025246f3adf8e9b8a0a0b13b',\n",
       "  'RADAR_BACK_RIGHT': '31b8099fb1c44c6381c3c71b335750bb',\n",
       "  'LIDAR_TOP': '3388933b59444c5db71fade0bbfef470',\n",
       "  'CAM_FRONT': '020d7b4f858147558106c504f7f31bef',\n",
       "  'CAM_FRONT_RIGHT': '16d39ff22a8545b0a4ee3236a0fe1c20',\n",
       "  'CAM_BACK_RIGHT': 'ec7096278e484c9ebe6894a2ad5682e9',\n",
       "  'CAM_BACK': 'aab35aeccbda42de82b2ff5c278a0d48',\n",
       "  'CAM_BACK_LEFT': '86e6806d626b4711a6d0f5015b090116',\n",
       "  'CAM_FRONT_LEFT': '24332e9c554a406f880430f17771b608'},\n",
       " 'anns': ['173a50411564442ab195e132472fde71',\n",
       "  '5123ed5e450948ac8dc381772f2ae29a',\n",
       "  'acce0b7220754600b700257a1de1573d',\n",
       "  '8d7cb5e96cae48c39ef4f9f75182013a',\n",
       "  'f64bfd3d4ddf46d7a366624605cb7e91',\n",
       "  'f9dba7f32ed34ee8adc92096af767868',\n",
       "  '086e3f37a44e459987cde7a3ca273b5b',\n",
       "  '3964235c58a745df8589b6a626c29985',\n",
       "  '31a96b9503204a8688da75abcd4b56b2',\n",
       "  'b0284e14d17a444a8d0071bd1f03a0a2']}"
      ]
     },
     "execution_count": 2,
     "metadata": {},
     "output_type": "execute_result"
    }
   ],
   "source": [
    "my_scene = nusc.scene[0]\n",
    "first_sample_token = my_scene['first_sample_token']\n",
    "my_sample = nusc.get('sample', first_sample_token)\n",
    "my_sample"
   ]
  },
  {
   "cell_type": "code",
   "execution_count": 3,
   "metadata": {},
   "outputs": [
    {
     "data": {
      "text/plain": [
       "{'token': '8d7cb5e96cae48c39ef4f9f75182013a',\n",
       " 'sample_token': 'e93e98b63d3b40209056d129dc53ceee',\n",
       " 'instance_token': 'f7c451dfcd2a4587b3af322d081dddad',\n",
       " 'visibility_token': '4',\n",
       " 'attribute_tokens': ['cb5118da1ab342aa947717dc53544259'],\n",
       " 'translation': [1018.705, 605.045, 0.731],\n",
       " 'size': [1.638, 4.25, 1.44],\n",
       " 'rotation': [0.9930201651831624, 0.0, 0.0, 0.11794469695414371],\n",
       " 'prev': '',\n",
       " 'next': '3b3734f6209a4317bb8734bcc1e6305f',\n",
       " 'num_lidar_pts': 150,\n",
       " 'num_radar_pts': 2,\n",
       " 'category_name': 'vehicle.car'}"
      ]
     },
     "execution_count": 3,
     "metadata": {},
     "output_type": "execute_result"
    }
   ],
   "source": [
    "my_firstannotationToken = my_sample['anns'][3]\n",
    "my_firstannotationToken\n",
    "nusc.get('sample_annotation',my_firstannotationToken)"
   ]
  },
  {
   "cell_type": "code",
   "execution_count": 4,
   "metadata": {},
   "outputs": [
    {
     "data": {
      "text/plain": [
       "{'token': 'bddd80ae33ec4e32b27fdb3c1160a30e',\n",
       " 'sample_token': 'e93e98b63d3b40209056d129dc53ceee',\n",
       " 'ego_pose_token': 'bddd80ae33ec4e32b27fdb3c1160a30e',\n",
       " 'calibrated_sensor_token': '7781065816974801afc4dcdaf6acf92c',\n",
       " 'timestamp': 1531883530440378,\n",
       " 'fileformat': 'pcd',\n",
       " 'is_key_frame': True,\n",
       " 'height': 0,\n",
       " 'width': 0,\n",
       " 'filename': 'samples/RADAR_FRONT/n015-2018-07-18-11-07-57+0800__RADAR_FRONT__1531883530440378.pcd',\n",
       " 'prev': '',\n",
       " 'next': '90df03ad4710427aabb5f88fe049df2e',\n",
       " 'sensor_modality': 'radar',\n",
       " 'channel': 'RADAR_FRONT'}"
      ]
     },
     "execution_count": 4,
     "metadata": {},
     "output_type": "execute_result"
    }
   ],
   "source": [
    "FrontRadarData = nusc.get('sample_data', my_sample['data']['RADAR_FRONT'])\n",
    "FrontLeftRadarData = nusc.get('sample_data', my_sample['data']['RADAR_FRONT_LEFT'])\n",
    "\n",
    "#SHORT CUT \n",
    "#channel = nusc.sample_data[0]['channel']\n",
    "FrontRadarData\n",
    "\n",
    "#REDO THIS FOR EACH RADAR"
   ]
  },
  {
   "cell_type": "code",
   "execution_count": 5,
   "metadata": {},
   "outputs": [
    {
     "data": {
      "text/plain": [
       "{'token': '1a08aec0958e42ebb37d26612a2cfc57',\n",
       " 'sample_token': 'e93e98b63d3b40209056d129dc53ceee',\n",
       " 'ego_pose_token': '1a08aec0958e42ebb37d26612a2cfc57',\n",
       " 'calibrated_sensor_token': '825567807e4648fe974e8fc78afe968a',\n",
       " 'timestamp': 1531883530486381,\n",
       " 'fileformat': 'pcd',\n",
       " 'is_key_frame': True,\n",
       " 'height': 0,\n",
       " 'width': 0,\n",
       " 'filename': 'samples/RADAR_FRONT_LEFT/n015-2018-07-18-11-07-57+0800__RADAR_FRONT_LEFT__1531883530486381.pcd',\n",
       " 'prev': '',\n",
       " 'next': '839c8da6560342968d29771339a399e0',\n",
       " 'sensor_modality': 'radar',\n",
       " 'channel': 'RADAR_FRONT_LEFT'}"
      ]
     },
     "execution_count": 5,
     "metadata": {},
     "output_type": "execute_result"
    }
   ],
   "source": [
    "FrontLeftRadarData"
   ]
  },
  {
   "cell_type": "code",
   "execution_count": 6,
   "metadata": {},
   "outputs": [
    {
     "data": {
      "text/plain": [
       "{'token': '1a08aec0958e42ebb37d26612a2cfc57',\n",
       " 'timestamp': 1531883530486381,\n",
       " 'rotation': [-0.7460758580227835,\n",
       "  -0.007683097562986563,\n",
       "  0.008360747339989849,\n",
       "  -0.6657641339027826],\n",
       " 'translation': [1010.1545634465576, 610.9705097462538, 0.0]}"
      ]
     },
     "execution_count": 6,
     "metadata": {},
     "output_type": "execute_result"
    }
   ],
   "source": [
    "nusc.get('ego_pose',FrontLeftRadarData['ego_pose_token'])"
   ]
  },
  {
   "cell_type": "code",
   "execution_count": 7,
   "metadata": {},
   "outputs": [
    {
     "data": {
      "image/png": "[encoded data removed]",
      "text/plain": [
       "<Figure size 648x648 with 1 Axes>"
      ]
     },
     "metadata": {
      "needs_background": "light"
     },
     "output_type": "display_data"
    }
   ],
   "source": [
    "nusc.my_check_radar_intersects_with_box(my_sample['data']['RADAR_FRONT'], nsweeps=1)"
   ]
  },
  {
   "cell_type": "code",
   "execution_count": 9,
   "metadata": {},
   "outputs": [],
   "source": [
    "_, boxes, _ = nusc.get_sample_data(FrontRadarData['token'])"
   ]
  },
  {
   "cell_type": "code",
   "execution_count": 10,
   "metadata": {},
   "outputs": [
    {
     "data": {
      "text/plain": [
       "[label: nan, score: nan, xyz: [-3.65, 16.20, 0.23], wlh: [0.30, 0.29, 0.73], rot axis: [-0.01, -0.01, -1.00], ang(degrees): -101.90, ang(rad): -1.78, vel: nan, nan, nan, name: movable_object.trafficcone, token: 173a50411564442ab195e132472fde71,\n",
       " label: nan, score: nan, xyz: [-6.77, 15.46, 0.24], wlh: [0.32, 0.34, 0.71], rot axis: [-0.01, -0.01, -1.00], ang(degrees): -107.89, ang(rad): -1.88, vel: nan, nan, nan, name: movable_object.trafficcone, token: 5123ed5e450948ac8dc381772f2ae29a,\n",
       " label: nan, score: nan, xyz: [17.01, 10.26, 0.97], wlh: [2.31, 7.52, 3.09], rot axis: [0.01, -0.01, 1.00], ang(degrees): -124.69, ang(rad): -2.18, vel: nan, nan, nan, name: vehicle.truck, token: acce0b7220754600b700257a1de1573d,\n",
       " label: nan, score: nan, xyz: [-8.02, -9.21, 0.34], wlh: [1.64, 4.25, 1.44], rot axis: [0.01, -0.02, 1.00], ang(degrees): -69.40, ang(rad): -1.21, vel: nan, nan, nan, name: vehicle.car, token: 8d7cb5e96cae48c39ef4f9f75182013a,\n",
       " label: nan, score: nan, xyz: [-3.28, 15.74, 0.76], wlh: [0.74, 0.56, 1.71], rot axis: [-0.01, -0.01, -1.00], ang(degrees): -101.90, ang(rad): -1.78, vel: nan, nan, nan, name: human.pedestrian.construction_worker, token: f64bfd3d4ddf46d7a366624605cb7e91,\n",
       " label: nan, score: nan, xyz: [-15.68, -0.38, 0.44], wlh: [1.87, 4.48, 1.46], rot axis: [0.01, -0.05, 1.00], ang(degrees): -27.32, ang(rad): -0.48, vel: nan, nan, nan, name: vehicle.car, token: f9dba7f32ed34ee8adc92096af767868,\n",
       " label: nan, score: nan, xyz: [32.66, 47.58, 1.48], wlh: [2.88, 6.37, 2.98], rot axis: [-0.01, -0.02, -1.00], ang(degrees): -58.43, ang(rad): -1.02, vel: nan, nan, nan, name: vehicle.truck, token: 086e3f37a44e459987cde7a3ca273b5b,\n",
       " label: nan, score: nan, xyz: [-2.54, 16.12, 0.76], wlh: [0.67, 0.54, 1.74], rot axis: [-0.01, -0.01, -1.00], ang(degrees): -101.90, ang(rad): -1.78, vel: nan, nan, nan, name: human.pedestrian.construction_worker, token: 3964235c58a745df8589b6a626c29985,\n",
       " label: nan, score: nan, xyz: [-4.93, 15.96, 0.21], wlh: [0.34, 0.31, 0.71], rot axis: [-0.01, -0.01, -1.00], ang(degrees): -102.27, ang(rad): -1.79, vel: nan, nan, nan, name: movable_object.trafficcone, token: 31a96b9503204a8688da75abcd4b56b2,\n",
       " label: nan, score: nan, xyz: [23.08, 19.42, 0.87], wlh: [2.16, 6.23, 2.60], rot axis: [0.01, -0.01, 1.00], ang(degrees): -119.20, ang(rad): -2.08, vel: nan, nan, nan, name: vehicle.truck, token: b0284e14d17a444a8d0071bd1f03a0a2]"
      ]
     },
     "execution_count": 10,
     "metadata": {},
     "output_type": "execute_result"
    }
   ],
   "source": [
    "boxes"
   ]
  },
  {
   "cell_type": "code",
   "execution_count": null,
   "metadata": {},
   "outputs": [],
   "source": []
  }
 ],
 "metadata": {
  "kernelspec": {
   "display_name": "Python 3",
   "language": "python",
   "name": "python3"
  },
  "language_info": {
   "codemirror_mode": {
    "name": "ipython",
    "version": 3
   },
   "file_extension": ".py",
   "mimetype": "text/x-python",
   "name": "python",
   "nbconvert_exporter": "python",
   "pygments_lexer": "ipython3",
   "version": "3.7.3"
  }
 },
 "nbformat": 4,
 "nbformat_minor": 2
}
