{
 "cells": [
  {
   "cell_type": "code",
   "execution_count": 20,
   "metadata": {},
   "outputs": [],
   "source": [
    "%matplotlib inline\n",
    "from nuscenes.nuscenes import NuScenes\n",
    "from nuscenes.utils.data_classes import LidarPointCloud, RadarPointCloud, Box\n",
    "from nuscenes.utils.geometry_utils import points_in_box"
   ]
  },
  {
   "cell_type": "code",
   "execution_count": 2,
   "metadata": {},
   "outputs": [
    {
     "name": "stdout",
     "output_type": "stream",
     "text": [
      "======\n",
      "Loading NuScenes tables for version v1.0-trainval ...\n",
      "23 category,\n",
      "8 attribute,\n",
      "4 visibility,\n",
      "64386 instance,\n",
      "12 sensor,\n",
      "10200 calibrated_sensor,\n",
      "2631083 ego_pose,\n",
      "68 log,\n",
      "850 scene,\n",
      "34149 sample,\n",
      "2631083 sample_data,\n",
      "1166187 sample_annotation,\n",
      "4 map,\n",
      "Done loading in 24.8 seconds.\n",
      "======\n",
      "Reverse indexing ...\n",
      "Done reverse indexing in 6.6 seconds.\n",
      "======\n"
     ]
    }
   ],
   "source": [
    "nusc = NuScenes(version='v1.0-trainval', dataroot='/home/mike/workspaces/ECE579/data', verbose=True)"
   ]
  },
  {
   "cell_type": "code",
   "execution_count": 4,
   "metadata": {},
   "outputs": [
    {
     "data": {
      "text/plain": [
       "{'token': 'e93e98b63d3b40209056d129dc53ceee',\n",
       " 'timestamp': 1531883530449377,\n",
       " 'prev': '',\n",
       " 'next': '14d5adfe50bb4445bc3aa5fe607691a8',\n",
       " 'scene_token': '73030fb67d3c46cfb5e590168088ae39',\n",
       " 'data': {'RADAR_FRONT': 'bddd80ae33ec4e32b27fdb3c1160a30e',\n",
       "  'RADAR_FRONT_LEFT': '1a08aec0958e42ebb37d26612a2cfc57',\n",
       "  'RADAR_FRONT_RIGHT': '282fa8d7a3f34b68b56fb1e22e697668',\n",
       "  'RADAR_BACK_LEFT': '05fc4678025246f3adf8e9b8a0a0b13b',\n",
       "  'RADAR_BACK_RIGHT': '31b8099fb1c44c6381c3c71b335750bb',\n",
       "  'LIDAR_TOP': '3388933b59444c5db71fade0bbfef470',\n",
       "  'CAM_FRONT': '020d7b4f858147558106c504f7f31bef',\n",
       "  'CAM_FRONT_RIGHT': '16d39ff22a8545b0a4ee3236a0fe1c20',\n",
       "  'CAM_BACK_RIGHT': 'ec7096278e484c9ebe6894a2ad5682e9',\n",
       "  'CAM_BACK': 'aab35aeccbda42de82b2ff5c278a0d48',\n",
       "  'CAM_BACK_LEFT': '86e6806d626b4711a6d0f5015b090116',\n",
       "  'CAM_FRONT_LEFT': '24332e9c554a406f880430f17771b608'},\n",
       " 'anns': ['173a50411564442ab195e132472fde71',\n",
       "  '5123ed5e450948ac8dc381772f2ae29a',\n",
       "  'acce0b7220754600b700257a1de1573d',\n",
       "  '8d7cb5e96cae48c39ef4f9f75182013a',\n",
       "  'f64bfd3d4ddf46d7a366624605cb7e91',\n",
       "  'f9dba7f32ed34ee8adc92096af767868',\n",
       "  '086e3f37a44e459987cde7a3ca273b5b',\n",
       "  '3964235c58a745df8589b6a626c29985',\n",
       "  '31a96b9503204a8688da75abcd4b56b2',\n",
       "  'b0284e14d17a444a8d0071bd1f03a0a2']}"
      ]
     },
     "execution_count": 4,
     "metadata": {},
     "output_type": "execute_result"
    }
   ],
   "source": [
    "#Grab first scence\n",
    "my_scene = nusc.scene[0]\n",
    "#grab first sample from scene\n",
    "first_sample_token = my_scene['first_sample_token']\n",
    "my_sample = nusc.get('sample', first_sample_token)\n",
    "my_sample"
   ]
  },
  {
   "cell_type": "code",
   "execution_count": 5,
   "metadata": {},
   "outputs": [
    {
     "data": {
      "text/plain": [
       "{'token': '8d7cb5e96cae48c39ef4f9f75182013a',\n",
       " 'sample_token': 'e93e98b63d3b40209056d129dc53ceee',\n",
       " 'instance_token': 'f7c451dfcd2a4587b3af322d081dddad',\n",
       " 'visibility_token': '4',\n",
       " 'attribute_tokens': ['cb5118da1ab342aa947717dc53544259'],\n",
       " 'translation': [1018.705, 605.045, 0.731],\n",
       " 'size': [1.638, 4.25, 1.44],\n",
       " 'rotation': [0.9930201651831624, 0.0, 0.0, 0.11794469695414371],\n",
       " 'prev': '',\n",
       " 'next': '3b3734f6209a4317bb8734bcc1e6305f',\n",
       " 'num_lidar_pts': 150,\n",
       " 'num_radar_pts': 2,\n",
       " 'category_name': 'vehicle.car'}"
      ]
     },
     "execution_count": 5,
     "metadata": {},
     "output_type": "execute_result"
    }
   ],
   "source": [
    "#Grab first annotation from sample\n",
    "my_firstannotationToken = my_sample['anns'][3]\n",
    "my_firstannotationToken\n",
    "nusc.get('sample_annotation',my_firstannotationToken)"
   ]
  },
  {
   "cell_type": "code",
   "execution_count": 78,
   "metadata": {
    "scrolled": true
   },
   "outputs": [],
   "source": [
    "#Grab sensor data for sample\n",
    "FCRadarData = nusc.get('sample_data', my_sample['data']['RADAR_FRONT'])\n",
    "FLRadarData = nusc.get('sample_data', my_sample['data']['RADAR_FRONT_LEFT'])\n",
    "FRRadarData = nusc.get('sample_data', my_sample['data']['RADAR_FRONT_RIGHT'])\n",
    "RLRadarData = nusc.get('sample_data', my_sample['data']['RADAR_BACK_LEFT'])\n",
    "RRRadarData = nusc.get('sample_data', my_sample['data']['RADAR_BACK_RIGHT'])\n",
    "\n",
    "#SHORT CUT \n",
    "#channel = nusc.sample_data[0]['channel']\n",
    "#FrontRadarData\n",
    "\n",
    "#REDO THIS FOR EACH RADAR"
   ]
  },
  {
   "cell_type": "code",
   "execution_count": 35,
   "metadata": {},
   "outputs": [],
   "source": [
    "#nusc.my_check_radar_intersects_with_box(my_sample['data']['RADAR_FRONT'], nsweeps=1)"
   ]
  },
  {
   "cell_type": "code",
   "execution_count": 92,
   "metadata": {},
   "outputs": [],
   "source": [
    "#GRAB Path to point clouds (pc_path), and all annotation boxes with this sensor data associated with them.\n",
    "#Note that boxes are transformed into sensor frame, so we need a new list of boxes for each sensor\n",
    "FC_pc_path, boxesFC, array = nusc.get_sample_data(FCRadarData['token'])\n",
    "FL_pc_path, boxesFL, array = nusc.get_sample_data(FLRadarData['token'])\n",
    "FR_pc_path, boxesFR, array = nusc.get_sample_data(FRRadarData['token'])\n",
    "RL_pc_path, boxesRL, array = nusc.get_sample_data(RLRadarData['token'])\n",
    "RR_pc_path, boxesRR, array = nusc.get_sample_data(RRRadarData['token'])"
   ]
  },
  {
   "cell_type": "code",
   "execution_count": 93,
   "metadata": {},
   "outputs": [
    {
     "name": "stdout",
     "output_type": "stream",
     "text": [
      "True\n"
     ]
    }
   ],
   "source": [
    "#PRINT Box 0 so i can see where it is\n",
    "mybox_FC = boxesFC[3]\n",
    "mybox_FL = boxesFL[3]\n",
    "mybox_FR = boxesFR[3]\n",
    "mybox_RL = boxesRL[3]\n",
    "mybox_RR = boxesRR[3]\n",
    "\n",
    "myannoFC=nusc.get('sample_annotation',mybox_FC.token)\n",
    "myannoFL=nusc.get('sample_annotation',mybox_FC.token)\n",
    "myannoFR=nusc.get('sample_annotation',mybox_FC.token)\n",
    "myannoRL=nusc.get('sample_annotation',mybox_FC.token)\n",
    "myannoRR=nusc.get('sample_annotation',mybox_FC.token)\n",
    "\n",
    "print(myannoFC ==myannoFL ==myannoFR ==myannoRL== myannoRR)"
   ]
  },
  {
   "cell_type": "code",
   "execution_count": 89,
   "metadata": {},
   "outputs": [],
   "source": [
    "FC_pc = RadarPointCloud.from_file(FC_pc_path)\n",
    "FL_pc = RadarPointCloud.from_file(FL_pc_path)\n",
    "FR_pc = RadarPointCloud.from_file(FR_pc_path)\n",
    "RL_pc = RadarPointCloud.from_file(RL_pc_path)\n",
    "RR_pc = RadarPointCloud.from_file(RR_pc_path)"
   ]
  },
  {
   "cell_type": "code",
   "execution_count": 72,
   "metadata": {},
   "outputs": [
    {
     "data": {
      "text/plain": [
       "array([[ 8.39999962],\n",
       "       [-5.30000019],\n",
       "       [ 0.        ]])"
      ]
     },
     "execution_count": 72,
     "metadata": {},
     "output_type": "execute_result"
    }
   ],
   "source": [
    "this = pc.points[:3, 0].transpose() # grab all points x,y,z values\n",
    "this = this.reshape(3,1)\n",
    "this"
   ]
  },
  {
   "cell_type": "code",
   "execution_count": 76,
   "metadata": {
    "scrolled": true
   },
   "outputs": [
    {
     "data": {
      "text/plain": [
       "array([[  8.39999962,   6.4000001 ,   9.39999962,  14.60000038,\n",
       "         15.        ,  15.60000038,  17.20000076,  16.39999962,\n",
       "         16.20000076,  17.39999962,  21.20000076,  17.        ,\n",
       "         24.        ,  24.        ,  21.20000076,  22.20000076,\n",
       "         22.79999924,  30.39999962,  24.        ,  35.        ,\n",
       "         36.79999924,  36.79999924,  37.        ,  39.59999847,\n",
       "         34.59999847,  32.40000153,  31.39999962,  40.40000153,\n",
       "         31.20000076,  33.        ,  36.40000153,  46.20000076,\n",
       "         67.        ,  72.19999695,  77.40000153,  15.        ],\n",
       "       [ -5.30000019, -10.5       ,  -9.89999962,   2.29999995,\n",
       "          7.5       ,  -6.9000001 ,  -5.0999999 ,   7.5       ,\n",
       "         10.69999981,  11.5       ,   1.29999995, -13.69999981,\n",
       "          1.29999995,  12.69999981,  17.10000038,  17.89999962,\n",
       "         20.89999962,   9.10000038,  22.29999924,   0.69999999,\n",
       "          2.29999995,  -2.70000005,  -4.9000001 ,   3.70000005,\n",
       "         22.89999962,  26.5       ,  28.70000076,  35.90000153,\n",
       "         45.09999847,  46.90000153,  50.09999847,  46.09999847,\n",
       "          7.69999981,  22.5       ,  54.5       ,   2.29999995],\n",
       "       [  0.        ,   0.        ,   0.        ,   0.        ,\n",
       "          0.        ,   0.        ,   0.        ,   0.        ,\n",
       "          0.        ,   0.        ,   0.        ,   0.        ,\n",
       "          0.        ,   0.        ,   0.        ,   0.        ,\n",
       "          0.        ,   0.        ,   0.        ,   0.        ,\n",
       "          0.        ,   0.        ,   0.        ,   0.        ,\n",
       "          0.        ,   0.        ,   0.        ,   0.        ,\n",
       "          0.        ,   0.        ,   0.        ,   0.        ,\n",
       "          0.        ,   0.        ,   0.        ,   0.        ]])"
      ]
     },
     "execution_count": 76,
     "metadata": {},
     "output_type": "execute_result"
    }
   ],
   "source": [
    "this = pc.points[:3, :] # grab all points x,y,z values\n",
    "numpoints=pc.nbr_points()\n",
    "#this = this.reshape(3,numpoints)\n",
    "this"
   ]
  },
  {
   "cell_type": "code",
   "execution_count": 90,
   "metadata": {},
   "outputs": [
    {
     "data": {
      "text/plain": [
       "array([[  8.39999962,   6.4000001 ,   9.39999962,  14.60000038,\n",
       "         15.        ,  15.60000038,  17.20000076,  16.39999962,\n",
       "         16.20000076,  17.39999962,  21.20000076,  17.        ,\n",
       "         24.        ,  24.        ,  21.20000076,  22.20000076,\n",
       "         22.79999924,  30.39999962,  24.        ,  35.        ,\n",
       "         36.79999924,  36.79999924,  37.        ,  39.59999847,\n",
       "         34.59999847,  32.40000153,  31.39999962,  40.40000153,\n",
       "         31.20000076,  33.        ,  36.40000153,  46.20000076,\n",
       "         67.        ,  72.19999695,  77.40000153,  15.        ],\n",
       "       [ -5.30000019, -10.5       ,  -9.89999962,   2.29999995,\n",
       "          7.5       ,  -6.9000001 ,  -5.0999999 ,   7.5       ,\n",
       "         10.69999981,  11.5       ,   1.29999995, -13.69999981,\n",
       "          1.29999995,  12.69999981,  17.10000038,  17.89999962,\n",
       "         20.89999962,   9.10000038,  22.29999924,   0.69999999,\n",
       "          2.29999995,  -2.70000005,  -4.9000001 ,   3.70000005,\n",
       "         22.89999962,  26.5       ,  28.70000076,  35.90000153,\n",
       "         45.09999847,  46.90000153,  50.09999847,  46.09999847,\n",
       "          7.69999981,  22.5       ,  54.5       ,   2.29999995],\n",
       "       [  0.        ,   0.        ,   0.        ,   0.        ,\n",
       "          0.        ,   0.        ,   0.        ,   0.        ,\n",
       "          0.        ,   0.        ,   0.        ,   0.        ,\n",
       "          0.        ,   0.        ,   0.        ,   0.        ,\n",
       "          0.        ,   0.        ,   0.        ,   0.        ,\n",
       "          0.        ,   0.        ,   0.        ,   0.        ,\n",
       "          0.        ,   0.        ,   0.        ,   0.        ,\n",
       "          0.        ,   0.        ,   0.        ,   0.        ,\n",
       "          0.        ,   0.        ,   0.        ,   0.        ]])"
      ]
     },
     "execution_count": 90,
     "metadata": {},
     "output_type": "execute_result"
    }
   ],
   "source": [
    "FC_points = FC_pc.points[:3, :]\n",
    "FL_points = FL_pc.points[:3, :]\n",
    "FR_points = FR_pc.points[:3, :]\n",
    "RL_points = RL_pc.points[:3, :]\n",
    "RR_points = RR_pc.points[:3, :]"
   ]
  },
  {
   "cell_type": "code",
   "execution_count": 77,
   "metadata": {},
   "outputs": [
    {
     "data": {
      "text/plain": [
       "array([False, False, False, False, False, False, False, False, False,\n",
       "       False, False, False, False, False, False, False, False, False,\n",
       "       False, False, False, False, False, False, False, False, False,\n",
       "       False, False, False, False, False, False, False, False, False])"
      ]
     },
     "execution_count": 77,
     "metadata": {},
     "output_type": "execute_result"
    }
   ],
   "source": [
    "points_in_box(mybox, FC_points, 1)\n",
    "points_in_box(mybox, FL_points, 1)\n",
    "points_in_box(mybox, FR_points, 1)\n",
    "points_in_box(mybox, RL_points, 1)\n",
    "points_in_box(mybox, RR_points, 1)"
   ]
  },
  {
   "cell_type": "code",
   "execution_count": 56,
   "metadata": {},
   "outputs": [
    {
     "data": {
      "text/plain": [
       "array([[0. , 0.5],\n",
       "       [0. , 0.5],\n",
       "       [0. , 0. ]])"
      ]
     },
     "execution_count": 56,
     "metadata": {},
     "output_type": "execute_result"
    }
   ],
   "source": [
    "whatiwant = np.array([[0.0, 0.0, 0.0], [0.5, 0.5, 0.0]]).transpose()\n",
    "whatiwant"
   ]
  },
  {
   "cell_type": "code",
   "execution_count": null,
   "metadata": {},
   "outputs": [],
   "source": [
    "points_in_box(mybox, )"
   ]
  }
 ],
 "metadata": {
  "kernelspec": {
   "display_name": "Python 3",
   "language": "python",
   "name": "python3"
  },
  "language_info": {
   "codemirror_mode": {
    "name": "ipython",
    "version": 3
   },
   "file_extension": ".py",
   "mimetype": "text/x-python",
   "name": "python",
   "nbconvert_exporter": "python",
   "pygments_lexer": "ipython3",
   "version": "3.7.3"
  },
  "varInspector": {
   "cols": {
    "lenName": 16,
    "lenType": 16,
    "lenVar": 40
   },
   "kernels_config": {
    "python": {
     "delete_cmd_postfix": "",
     "delete_cmd_prefix": "del ",
     "library": "var_list.py",
     "varRefreshCmd": "print(var_dic_list())"
    },
    "r": {
     "delete_cmd_postfix": ") ",
     "delete_cmd_prefix": "rm(",
     "library": "var_list.r",
     "varRefreshCmd": "cat(var_dic_list()) "
    }
   },
   "oldHeight": 445.85,
   "position": {
    "height": "467.85px",
    "left": "1363px",
    "right": "132px",
    "top": "128px",
    "width": "358px"
   },
   "types_to_exclude": [
    "module",
    "function",
    "builtin_function_or_method",
    "instance",
    "_Feature"
   ],
   "varInspector_section_display": "block",
   "window_display": false
  }
 },
 "nbformat": 4,
 "nbformat_minor": 2
}
