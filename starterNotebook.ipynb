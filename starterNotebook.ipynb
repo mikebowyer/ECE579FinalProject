{
 "cells": [
  {
   "cell_type": "code",
   "execution_count": 1,
   "metadata": {},
   "outputs": [
    {
     "name": "stdout",
     "output_type": "stream",
     "text": [
      "======\n",
      "Loading NuScenes tables for version v1.0-trainval ...\n",
      "23 category,\n",
      "8 attribute,\n",
      "4 visibility,\n",
      "64386 instance,\n",
      "12 sensor,\n",
      "10200 calibrated_sensor,\n",
      "2631083 ego_pose,\n",
      "68 log,\n",
      "850 scene,\n",
      "34149 sample,\n",
      "2631083 sample_data,\n",
      "1166187 sample_annotation,\n",
      "4 map,\n",
      "Done loading in 28.6 seconds.\n",
      "======\n",
      "Reverse indexing ...\n",
      "Done reverse indexing in 6.9 seconds.\n",
      "======\n"
     ]
    }
   ],
   "source": [
    "%matplotlib inline\n",
    "from nuscenes.nuscenes import NuScenes\n",
    "\n",
    "nusc = NuScenes(version='v1.0-trainval', dataroot='/home/mike/workspaces/ECE579/data', verbose=True)"
   ]
  },
  {
   "cell_type": "code",
   "execution_count": 3,
   "metadata": {},
   "outputs": [
    {
     "data": {
      "text/plain": [
       "{'token': 'e93e98b63d3b40209056d129dc53ceee',\n",
       " 'timestamp': 1531883530449377,\n",
       " 'prev': '',\n",
       " 'next': '14d5adfe50bb4445bc3aa5fe607691a8',\n",
       " 'scene_token': '73030fb67d3c46cfb5e590168088ae39',\n",
       " 'data': {'RADAR_FRONT': 'bddd80ae33ec4e32b27fdb3c1160a30e',\n",
       "  'RADAR_FRONT_LEFT': '1a08aec0958e42ebb37d26612a2cfc57',\n",
       "  'RADAR_FRONT_RIGHT': '282fa8d7a3f34b68b56fb1e22e697668',\n",
       "  'RADAR_BACK_LEFT': '05fc4678025246f3adf8e9b8a0a0b13b',\n",
       "  'RADAR_BACK_RIGHT': '31b8099fb1c44c6381c3c71b335750bb',\n",
       "  'LIDAR_TOP': '3388933b59444c5db71fade0bbfef470',\n",
       "  'CAM_FRONT': '020d7b4f858147558106c504f7f31bef',\n",
       "  'CAM_FRONT_RIGHT': '16d39ff22a8545b0a4ee3236a0fe1c20',\n",
       "  'CAM_BACK_RIGHT': 'ec7096278e484c9ebe6894a2ad5682e9',\n",
       "  'CAM_BACK': 'aab35aeccbda42de82b2ff5c278a0d48',\n",
       "  'CAM_BACK_LEFT': '86e6806d626b4711a6d0f5015b090116',\n",
       "  'CAM_FRONT_LEFT': '24332e9c554a406f880430f17771b608'},\n",
       " 'anns': ['173a50411564442ab195e132472fde71',\n",
       "  '5123ed5e450948ac8dc381772f2ae29a',\n",
       "  'acce0b7220754600b700257a1de1573d',\n",
       "  '8d7cb5e96cae48c39ef4f9f75182013a',\n",
       "  'f64bfd3d4ddf46d7a366624605cb7e91',\n",
       "  'f9dba7f32ed34ee8adc92096af767868',\n",
       "  '086e3f37a44e459987cde7a3ca273b5b',\n",
       "  '3964235c58a745df8589b6a626c29985',\n",
       "  '31a96b9503204a8688da75abcd4b56b2',\n",
       "  'b0284e14d17a444a8d0071bd1f03a0a2']}"
      ]
     },
     "execution_count": 3,
     "metadata": {},
     "output_type": "execute_result"
    }
   ],
   "source": [
    "my_scene = nusc.scene[0]\n",
    "first_sample_token = my_scene['first_sample_token']\n",
    "my_sample = nusc.get('sample', first_sample_token)\n",
    "my_sample"
   ]
  },
  {
   "cell_type": "code",
   "execution_count": 12,
   "metadata": {},
   "outputs": [
    {
     "data": {
      "text/plain": [
       "{'token': '8d7cb5e96cae48c39ef4f9f75182013a',\n",
       " 'sample_token': 'e93e98b63d3b40209056d129dc53ceee',\n",
       " 'instance_token': 'f7c451dfcd2a4587b3af322d081dddad',\n",
       " 'visibility_token': '4',\n",
       " 'attribute_tokens': ['cb5118da1ab342aa947717dc53544259'],\n",
       " 'translation': [1018.705, 605.045, 0.731],\n",
       " 'size': [1.638, 4.25, 1.44],\n",
       " 'rotation': [0.9930201651831624, 0.0, 0.0, 0.11794469695414371],\n",
       " 'prev': '',\n",
       " 'next': '3b3734f6209a4317bb8734bcc1e6305f',\n",
       " 'num_lidar_pts': 150,\n",
       " 'num_radar_pts': 2,\n",
       " 'category_name': 'vehicle.car'}"
      ]
     },
     "execution_count": 12,
     "metadata": {},
     "output_type": "execute_result"
    }
   ],
   "source": [
    "my_firstannotationToken = my_sample['anns'][3]\n",
    "my_firstannotationToken\n",
    "nusc.get('sample_annotation',my_firstannotationToken)"
   ]
  },
  {
   "cell_type": "code",
   "execution_count": null,
   "metadata": {},
   "outputs": [],
   "source": []
  }
 ],
 "metadata": {
  "kernelspec": {
   "display_name": "Python 3",
   "language": "python",
   "name": "python3"
  },
  "language_info": {
   "codemirror_mode": {
    "name": "ipython",
    "version": 3
   },
   "file_extension": ".py",
   "mimetype": "text/x-python",
   "name": "python",
   "nbconvert_exporter": "python",
   "pygments_lexer": "ipython3",
   "version": "3.7.3"
  }
 },
 "nbformat": 4,
 "nbformat_minor": 2
}
